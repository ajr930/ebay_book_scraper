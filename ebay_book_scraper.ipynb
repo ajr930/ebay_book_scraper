{
 "cells": [
  {
   "cell_type": "code",
   "execution_count": 1,
   "id": "b9f0003e",
   "metadata": {},
   "outputs": [],
   "source": [
    "import pandas as pd\n",
    "import numpy as np\n",
    "import requests\n",
    "from urllib.request import urlopen\n",
    "from bs4 import BeautifulSoup\n",
    "#import get to call a get request on the site\n",
    "from requests import get\n",
    "import re"
   ]
  },
  {
   "cell_type": "code",
   "execution_count": 2,
   "id": "e05631ff",
   "metadata": {},
   "outputs": [],
   "source": [
    "url = 'https://www.ebay.com/sch/i.html?_from=R40&_nkw=books&_sacat=184644&Publication%2520Year=2010%252DNow&_dcat=184644&LH_BIN=1&_pgn=1&rt=nc'"
   ]
  },
  {
   "cell_type": "code",
   "execution_count": 3,
   "id": "3eb2f97b",
   "metadata": {},
   "outputs": [],
   "source": [
    "#get the ebay site listings\n",
    "response = get(url)\n",
    "html_soup = BeautifulSoup(response.text, 'html.parser')"
   ]
  },
  {
   "cell_type": "code",
   "execution_count": 5,
   "id": "dfc45866",
   "metadata": {},
   "outputs": [],
   "source": [
    "#html_soup"
   ]
  },
  {
   "cell_type": "code",
   "execution_count": 7,
   "id": "5f239c9e",
   "metadata": {},
   "outputs": [],
   "source": [
    "#create links for pagenation\n",
    "links =[]\n",
    "for i in range(1,11):\n",
    "    links.append('https://www.ebay.com/sch/i.html?_from=R40&_nkw=books&_sacat=184644&Publication%2520Year=2010%252DNow&_dcat=184644&LH_BIN=1&_pgn'+str(i)+'&rt=nc')"
   ]
  },
  {
   "cell_type": "code",
   "execution_count": 8,
   "id": "4d786b0e",
   "metadata": {},
   "outputs": [
    {
     "name": "stdout",
     "output_type": "stream",
     "text": [
      "624\n",
      "624\n",
      "614\n"
     ]
    }
   ],
   "source": [
    "price_list= []\n",
    "url_list = []\n",
    "book_titles = []\n",
    "\n",
    "for link in links:\n",
    "    response = get(link)\n",
    "    html_soup = BeautifulSoup(response.text, 'html.parser')\n",
    "    prices = html_soup.findAll('span', class_ = 's-item__price')\n",
    "    titles = html_soup.findAll('h3', class_ = 's-item__title')\n",
    "    urls = html_soup.findAll('a', class_ = 's-item__link')\n",
    "    for i in range(1,len(prices)):\n",
    "        price_list.append(prices[i].text)\n",
    "    for i in range(1,len(titles)):\n",
    "        book_titles.append(titles[i].text)\n",
    "    for i in range(1,len(urls)):\n",
    "        url_list.append(urls[i]['href'])\n",
    "print(len(url_list))\n",
    "print(len(book_titles))\n",
    "print(len(price_list))"
   ]
  },
  {
   "cell_type": "code",
   "execution_count": 21,
   "id": "59291284",
   "metadata": {},
   "outputs": [
    {
     "data": {
      "text/plain": [
       "624"
      ]
     },
     "execution_count": 21,
     "metadata": {},
     "output_type": "execute_result"
    }
   ],
   "source": [
    "isbn_list = []\n",
    "for url in url_list:\n",
    "    response = get(url)\n",
    "    soup = BeautifulSoup(response.text, 'html.parser')\n",
    "    isbn = soup.findAll('div', class_ = 'ux-layout-section__row')\n",
    "#     isbn_list.append(isbn)\n",
    "    for i in range(len(isbn)):\n",
    "        if 'ISBN:' in isbn[i].text:\n",
    "            isbn_list.append(isbn[i].text)\n",
    "            \n",
    "        else:\n",
    "            continue\n",
    "\n",
    "len(isbn_list)    "
   ]
  },
  {
   "cell_type": "code",
   "execution_count": 28,
   "id": "1081ba70",
   "metadata": {},
   "outputs": [
    {
     "ename": "AttributeError",
     "evalue": "ResultSet object has no attribute 'text'. You're probably treating a list of elements like a single element. Did you call find_all() when you meant to call find()?",
     "output_type": "error",
     "traceback": [
      "\u001b[0;31m---------------------------------------------------------------------------\u001b[0m",
      "\u001b[0;31mAttributeError\u001b[0m                            Traceback (most recent call last)",
      "\u001b[0;32m<ipython-input-28-6ab20c28aa20>\u001b[0m in \u001b[0;36m<module>\u001b[0;34m\u001b[0m\n\u001b[1;32m      3\u001b[0m \u001b[0msoup\u001b[0m \u001b[0;34m=\u001b[0m \u001b[0mBeautifulSoup\u001b[0m\u001b[0;34m(\u001b[0m\u001b[0mresponse\u001b[0m\u001b[0;34m.\u001b[0m\u001b[0mtext\u001b[0m\u001b[0;34m,\u001b[0m \u001b[0;34m'html.parser'\u001b[0m\u001b[0;34m)\u001b[0m\u001b[0;34m\u001b[0m\u001b[0;34m\u001b[0m\u001b[0m\n\u001b[1;32m      4\u001b[0m \u001b[0misbn\u001b[0m \u001b[0;34m=\u001b[0m \u001b[0msoup\u001b[0m\u001b[0;34m.\u001b[0m\u001b[0mfindAll\u001b[0m\u001b[0;34m(\u001b[0m\u001b[0;34m'div'\u001b[0m\u001b[0;34m,\u001b[0m \u001b[0mclass_\u001b[0m \u001b[0;34m=\u001b[0m \u001b[0;34m'ux-layout-section__row'\u001b[0m\u001b[0;34m)\u001b[0m\u001b[0;34m\u001b[0m\u001b[0;34m\u001b[0m\u001b[0m\n\u001b[0;32m----> 5\u001b[0;31m \u001b[0misbn\u001b[0m\u001b[0;34m.\u001b[0m\u001b[0mtext\u001b[0m\u001b[0;34m\u001b[0m\u001b[0;34m\u001b[0m\u001b[0m\n\u001b[0m",
      "\u001b[0;32m~/anaconda3/lib/python3.8/site-packages/bs4/element.py\u001b[0m in \u001b[0;36m__getattr__\u001b[0;34m(self, key)\u001b[0m\n\u001b[1;32m   2171\u001b[0m     \u001b[0;32mdef\u001b[0m \u001b[0m__getattr__\u001b[0m\u001b[0;34m(\u001b[0m\u001b[0mself\u001b[0m\u001b[0;34m,\u001b[0m \u001b[0mkey\u001b[0m\u001b[0;34m)\u001b[0m\u001b[0;34m:\u001b[0m\u001b[0;34m\u001b[0m\u001b[0;34m\u001b[0m\u001b[0m\n\u001b[1;32m   2172\u001b[0m         \u001b[0;34m\"\"\"Raise a helpful exception to explain a common code fix.\"\"\"\u001b[0m\u001b[0;34m\u001b[0m\u001b[0;34m\u001b[0m\u001b[0m\n\u001b[0;32m-> 2173\u001b[0;31m         raise AttributeError(\n\u001b[0m\u001b[1;32m   2174\u001b[0m             \u001b[0;34m\"ResultSet object has no attribute '%s'. You're probably treating a list of elements like a single element. Did you call find_all() when you meant to call find()?\"\u001b[0m \u001b[0;34m%\u001b[0m \u001b[0mkey\u001b[0m\u001b[0;34m\u001b[0m\u001b[0;34m\u001b[0m\u001b[0m\n\u001b[1;32m   2175\u001b[0m         )\n",
      "\u001b[0;31mAttributeError\u001b[0m: ResultSet object has no attribute 'text'. You're probably treating a list of elements like a single element. Did you call find_all() when you meant to call find()?"
     ]
    }
   ],
   "source": [
    "first_page = url_list[0]\n",
    "response = get(first_page)\n",
    "soup = BeautifulSoup(response.text, 'html.parser')\n",
    "isbn = soup.findAll('div', class_ = 'ux-layout-section__row')\n"
   ]
  },
  {
   "cell_type": "code",
   "execution_count": 14,
   "id": "f54cde9b",
   "metadata": {},
   "outputs": [
    {
     "data": {
      "text/plain": [
       "' Payments:\\xa0\\xa0\\xa0\\xa0\\xa0\\xa0'"
      ]
     },
     "execution_count": 14,
     "metadata": {},
     "output_type": "execute_result"
    }
   ],
   "source": [
    "isbn[1].text"
   ]
  },
  {
   "cell_type": "code",
   "execution_count": 17,
   "id": "a568a339",
   "metadata": {},
   "outputs": [],
   "source": [
    "isbn_list=[]\n",
    "for i in range(len(isbn)):\n",
    "        if 'ISBN:' in isbn[i].text:\n",
    "            isbn_list.append(isbn[i].text)\n",
    "        else:\n",
    "            continue"
   ]
  },
  {
   "cell_type": "code",
   "execution_count": 18,
   "id": "870138ef",
   "metadata": {},
   "outputs": [
    {
     "data": {
      "text/plain": [
       "[' ISBN:9784789017305']"
      ]
     },
     "execution_count": 18,
     "metadata": {},
     "output_type": "execute_result"
    }
   ],
   "source": [
    "isbn_list"
   ]
  },
  {
   "cell_type": "code",
   "execution_count": 32,
   "id": "b3f22bb3",
   "metadata": {},
   "outputs": [
    {
     "data": {
      "text/plain": [
       "'/Users/avijames'"
      ]
     },
     "execution_count": 32,
     "metadata": {},
     "output_type": "execute_result"
    }
   ],
   "source": [
    "pwd"
   ]
  },
  {
   "cell_type": "code",
   "execution_count": null,
   "id": "de47ed86",
   "metadata": {},
   "outputs": [],
   "source": []
  }
 ],
 "metadata": {
  "kernelspec": {
   "display_name": "Python 3",
   "language": "python",
   "name": "python3"
  },
  "language_info": {
   "codemirror_mode": {
    "name": "ipython",
    "version": 3
   },
   "file_extension": ".py",
   "mimetype": "text/x-python",
   "name": "python",
   "nbconvert_exporter": "python",
   "pygments_lexer": "ipython3",
   "version": "3.8.8"
  }
 },
 "nbformat": 4,
 "nbformat_minor": 5
}
